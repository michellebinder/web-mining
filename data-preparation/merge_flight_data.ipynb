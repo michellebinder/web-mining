{
 "cells": [
  {
   "cell_type": "markdown",
   "id": "9292c252",
   "metadata": {},
   "source": [
    "# Data Preparation of the Airline Crawling Results\n",
    "This script loads the results from the flight data crawlers (Austrian Airlines, KLM, Lufthansa, and Qatar Airways), cleans up column names, ensures uniform column structure across datasets, and merges the data. Additionally, it converts airport names to their respective IATA codes and processes the 'crawling_date' column to make it easier to work with dates. Finally, the merged data is sorted by the 'crawling_date' and saved into a new CSV file."
   ]
  },
  {
   "cell_type": "code",
   "execution_count": 5,
   "id": "14ec087f",
   "metadata": {},
   "outputs": [
    {
     "name": "stdout",
     "output_type": "stream",
     "text": [
      "Unique departure_airport values: ['FRA']\n",
      "Unique destination_airport values: ['BER' 'LHR' 'HAM' 'PVG' 'JFK' 'DXB' 'SAW' 'PMI' 'MUC']\n"
     ]
    }
   ],
   "source": [
    "import pandas as pd\n",
    "\n",
    "# Load CSV files\n",
    "aa = pd.read_csv('data/results_AustrianAirlines.csv', encoding='unicode_escape')\n",
    "klm = pd.read_csv('data/results_KLM.csv', encoding='unicode_escape')\n",
    "lh = pd.read_csv('data/results_Lufthansa.csv', encoding='unicode_escape')\n",
    "qa = pd.read_csv('data/results_QatarAirways.csv', encoding='unicode_escape')\n",
    "\n",
    "# Function to clean column names\n",
    "def clean_columns(df):\n",
    "    df.columns = df.columns.str.strip()  \n",
    "    return df\n",
    "\n",
    "# Clean column names\n",
    "aa = clean_columns(aa)\n",
    "klm = clean_columns(klm)\n",
    "lh = clean_columns(lh)\n",
    "qa = clean_columns(qa)\n",
    "\n",
    "# Ensure all DataFrames have the same columns\n",
    "klm = klm[aa.columns]\n",
    "lh = lh[aa.columns]\n",
    "qa = qa[aa.columns]\n",
    "\n",
    "# Remove unnecessary column if it exists\n",
    "if 'Unnamed: 0' in lh.columns:\n",
    "    lh = lh.drop(columns=['Unnamed: 0'], axis=1)\n",
    "\n",
    "# Concatenate DataFrames vertically\n",
    "crawler_data = pd.concat([aa, klm, lh, qa], ignore_index=True)\n",
    "\n",
    "# Convert 'crawling_date' to a datetime object without specifying the format, allowing Pandas to infer the format\n",
    "crawler_data['crawling_date'] = pd.to_datetime(crawler_data['crawling_date'], dayfirst=True, errors='coerce')\n",
    "\n",
    "# Sort by 'crawling_date'\n",
    "crawler_data.sort_values(by='crawling_date', inplace=True)\n",
    "\n",
    "# Reset index and drop the old one\n",
    "crawler_data.reset_index(drop=True, inplace=True)\n",
    "\n",
    "# Mapping for departure_airport and destination_airport\n",
    "airport_mapping = {\n",
    "    'Frankfurt': 'FRA',\n",
    "    'Berlin': 'BER',\n",
    "    'Hamburg': 'HAM',\n",
    "    'München': 'MUC',\n",
    "    'MÃ¼nchen': 'MUC',\n",
    "    'M\\x9fnchen': 'MUC',\n",
    "    'London': 'LHR',   \n",
    "    'Palma': 'PMI',\n",
    "    'Palma de Mallorca': 'PMI',\n",
    "    'Istanbul': 'SAW',  \n",
    "    'Dubai': 'DXB',\n",
    "    'New York': 'JFK',  \n",
    "    'Shanghai': 'PVG'   \n",
    "}\n",
    "\n",
    "# Convert full airport names to their IATA codes\n",
    "crawler_data['departure_airport'] = crawler_data['departure_airport'].replace(airport_mapping)\n",
    "crawler_data['destination_airport'] = crawler_data['destination_airport'].replace(airport_mapping)\n",
    "\n",
    "# Check if all entries were converted correctly\n",
    "print(\"Unique departure_airport values:\", crawler_data['departure_airport'].unique())\n",
    "print(\"Unique destination_airport values:\", crawler_data['destination_airport'].unique())\n",
    "\n",
    "# Save the combined DataFrame\n",
    "crawler_data.to_csv('cralwer_data_merged.csv', index=False, encoding='utf-8')"
   ]
  }
 ],
 "metadata": {
  "kernelspec": {
   "display_name": "Python 3 (ipykernel)",
   "language": "python",
   "name": "python3"
  },
  "language_info": {
   "codemirror_mode": {
    "name": "ipython",
    "version": 3
   },
   "file_extension": ".py",
   "mimetype": "text/x-python",
   "name": "python",
   "nbconvert_exporter": "python",
   "pygments_lexer": "ipython3",
   "version": "3.9.12"
  }
 },
 "nbformat": 4,
 "nbformat_minor": 5
}
